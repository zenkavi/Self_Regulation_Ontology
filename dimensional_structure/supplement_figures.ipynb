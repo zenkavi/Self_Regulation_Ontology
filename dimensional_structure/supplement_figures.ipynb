{
 "cells": [
  {
   "cell_type": "markdown",
   "metadata": {},
   "source": [
    "Supplemental Figures for _Uncovering mental structure through data-driven ontology discovery_"
   ]
  },
  {
   "cell_type": "code",
   "execution_count": null,
   "metadata": {},
   "outputs": [],
   "source": [
    "import matplotlib.pyplot as plt\n",
    "from os import path\n",
    "import pandas as pd\n",
    "import pickle\n",
    "import seaborn as sns\n",
    "pd.set_option('max_rows', 200)\n",
    "\n",
    "from dimensional_structure import DA_plots\n",
    "from dimensional_structure.EFA_plots import plot_heatmap_factors, plot_bar_factors, plot_factor_correlation\n",
    "from dimensional_structure.HCA_plots import plot_subbranches, plot_results_dendrogram\n",
    "from selfregulation.utils.utils import get_recent_dataset\n",
    "from selfregulation.utils.result_utils import load_results"
   ]
  },
  {
   "cell_type": "code",
   "execution_count": null,
   "metadata": {},
   "outputs": [],
   "source": [
    "%matplotlib inline\n",
    "dataset = get_recent_dataset()\n",
    "results = load_results(datafile=dataset)"
   ]
  },
  {
   "cell_type": "markdown",
   "metadata": {},
   "source": [
    "# Exploratory Factor Analysis Results\n",
    "\n",
    "Below are the loading matrices for the exploratory factor analysis (EFA) solutions for surveys, tasks, and the outcome measures. These matrices are depicted as heatmaps, as well as dataframes with the actual values."
   ]
  },
  {
   "cell_type": "markdown",
   "metadata": {},
   "source": [
    "### Survey Exploratory Factor Analysis Loadings\n",
    "\n",
    "12 factors were determined using a BIC criteria for exploratory factor analysis. The 66 survey DVs are grouped and ordered based on the largest (absolute) factor loading for that DV. Dotted lines indicate separate groups derived from this criteria, and are used for visualization purposes only"
   ]
  },
  {
   "cell_type": "code",
   "execution_count": null,
   "metadata": {},
   "outputs": [],
   "source": [
    "survey_results = results['survey']\n",
    "survey_factor_loading = survey_results.EFA.get_loading()"
   ]
  },
  {
   "cell_type": "code",
   "execution_count": null,
   "metadata": {},
   "outputs": [],
   "source": [
    "survey_c = survey_results.EFA.results['num_factors']\n",
    "plot_heatmap_factors(survey_results, survey_c, thresh=0, size=12)"
   ]
  },
  {
   "cell_type": "markdown",
   "metadata": {},
   "source": [
    "Full loading matrix, as a dataframe..."
   ]
  },
  {
   "cell_type": "code",
   "execution_count": null,
   "metadata": {},
   "outputs": [],
   "source": [
    "survey_factor_loading"
   ]
  },
  {
   "cell_type": "markdown",
   "metadata": {},
   "source": [
    "### Task Exploratory Factor Analysis Loadings\n",
    "\n",
    "5 factors were determined using a BIC criteria for exploratory factor analysis. The 130 survey DVs are grouped and ordered based on the largest (absolute) factor loading for that DV. Dotted lines indicate separate groups derived from this criteria, and are used for visualization purposes only."
   ]
  },
  {
   "cell_type": "code",
   "execution_count": null,
   "metadata": {},
   "outputs": [],
   "source": [
    "task_results = results['task']\n",
    "task_factor_loading = task_results.EFA.get_loading()"
   ]
  },
  {
   "cell_type": "code",
   "execution_count": null,
   "metadata": {},
   "outputs": [],
   "source": [
    "task_c = task_results.EFA.results['num_factors']\n",
    "plot_heatmap_factors(task_results, task_c, thresh=0, size=13)"
   ]
  },
  {
   "cell_type": "code",
   "execution_count": null,
   "metadata": {},
   "outputs": [],
   "source": [
    "task_factor_loading"
   ]
  },
  {
   "cell_type": "markdown",
   "metadata": {},
   "source": [
    "### Outcome Exploratory Factor Analysis Loadings\n",
    "\n",
    "9 factors were determined using a BIC criteria for exploratory factor analysis. The 55 target measures are grouped and ordered based on the largest (absolute) factor loading for that target measure. Dotted lines indicate separate groups derived from this criteria, and are used for visualization purposes only."
   ]
  },
  {
   "cell_type": "code",
   "execution_count": null,
   "metadata": {},
   "outputs": [],
   "source": [
    "outcome_factor_loading = task_results.DA.get_loading()"
   ]
  },
  {
   "cell_type": "code",
   "execution_count": null,
   "metadata": {},
   "outputs": [],
   "source": [
    "outcome_c = task_results.DA.results['num_factors']\n",
    "DA_plots.plot_heatmap_factors(task_results, outcome_c, thresh=0, size=8, DA=True)"
   ]
  },
  {
   "cell_type": "code",
   "execution_count": null,
   "metadata": {},
   "outputs": [],
   "source": [
    "outcome_factor_loading"
   ]
  },
  {
   "cell_type": "markdown",
   "metadata": {},
   "source": [
    "## Factor Robustness Analyses"
   ]
  },
  {
   "cell_type": "markdown",
   "metadata": {},
   "source": [
    "Factor robustness proceeded in two ways:\n",
    "\n",
    "**(1)** By dropping one measure at a time, recalculating the survey factor solution (with the same number of factors as the full sample) and correlating the new factor loadings with the original factor loadings. This correlation is calculated on all DVs excepting those dropped out because of the dropped measure. Tables for these correlations are shown with values below .9 highlighted in red\n",
    "\n",
    "**(2)** By using a bootstrap procedure (see fa.sapa), which creates confidence intervals for each loading. 95% confidence intervals are plotted as bar plots for each loading"
   ]
  },
  {
   "cell_type": "code",
   "execution_count": null,
   "metadata": {},
   "outputs": [],
   "source": [
    "# helper plotting function\n",
    "def plot_bootstrap_results(boot_results):\n",
    "    mean_loading = boot_stats['means']\n",
    "    std_loading = boot_stats['sds']\n",
    "    coef_of_variation = std_loading/mean_loading\n",
    "    f, (ax1, ax2) = plt.subplots(1,2, figsize=(12,6))\n",
    "    ax1.plot(mean_loading.values.flatten(), coef_of_variation.values.flatten(), 'o')\n",
    "    ax1.set_xlabel('Mean Loading')\n",
    "    ax1.set_ylabel('Coefficient of Variation')\n",
    "    ax1.set_ylim([-1,1])\n",
    "    ax1.grid()\n",
    "\n",
    "    ax2.plot(mean_loading.values.flatten(), std_loading.values.flatten(),'o')\n",
    "    ax2.set_xlabel('Mean Loading')\n",
    "    ax2.set_ylabel('Standard Deviation of Loading')\n",
    "\n",
    "    plt.subplots_adjust(wspace=.3)"
   ]
  },
  {
   "cell_type": "markdown",
   "metadata": {},
   "source": [
    "### Survey Robustness"
   ]
  },
  {
   "cell_type": "markdown",
   "metadata": {},
   "source": [
    "#### Measurement Drop\n",
    "\n",
    "Individual surveys sometimes had large effects on the factor structure, likely because of spare measurement of highly discriminat psychological constructs"
   ]
  },
  {
   "cell_type": "code",
   "execution_count": null,
   "metadata": {},
   "outputs": [],
   "source": [
    "f = path.join(results['survey'].get_output_dir(), 'EFAdrop_robustness.pkl')\n",
    "survey_EFA_robustness = pickle.load(open(f, 'rb'))"
   ]
  },
  {
   "cell_type": "code",
   "execution_count": null,
   "metadata": {},
   "outputs": [],
   "source": [
    "def color(val):\n",
    "    if val < .9:\n",
    "        color = 'red'\n",
    "        \n",
    "    else:\n",
    "        color = 'black'\n",
    "    return 'color: %s' % color\n",
    "survey_robustness_df = pd.DataFrame(survey_EFA_robustness).T\n",
    "survey_robustness_df.style.applymap(color)"
   ]
  },
  {
   "cell_type": "markdown",
   "metadata": {},
   "source": [
    "#### Bootstrap\n",
    "\n",
    "It's clear that loadings are robust to the particulars of the sample. The standard deviation of the loadings are very small relative to the mean loadings."
   ]
  },
  {
   "cell_type": "code",
   "execution_count": null,
   "metadata": {},
   "outputs": [],
   "source": [
    "plot_bootstrap_results(survey_results.EFA.get_boot_stats())"
   ]
  },
  {
   "cell_type": "markdown",
   "metadata": {},
   "source": [
    "### Task Robustness"
   ]
  },
  {
   "cell_type": "markdown",
   "metadata": {},
   "source": [
    "#### Measurement Drop\n",
    "\n",
    "Task factors are more robust to dropping out particular measures, likely due to the greater overlap in the psychological constructs measured by individual tasks"
   ]
  },
  {
   "cell_type": "code",
   "execution_count": null,
   "metadata": {},
   "outputs": [],
   "source": [
    "f = path.join(results['task'].get_output_dir(), 'EFAdrop_robustness.pkl')\n",
    "task_EFA_robustness = pickle.load(open(f, 'rb'))\n",
    "task_robustness_df = pd.DataFrame(task_EFA_robustness).T\n",
    "task_robustness_df.style.applymap(color)"
   ]
  },
  {
   "cell_type": "markdown",
   "metadata": {},
   "source": [
    "#### Bootstrap\n",
    "\n",
    "It's clear that loadings are robust to the particulars of the sample. The standard deviation of the loadings are very small relative to the mean loadings."
   ]
  },
  {
   "cell_type": "code",
   "execution_count": null,
   "metadata": {},
   "outputs": [],
   "source": [
    "plot_bootstrap_results(task_results.EFA.get_boot_stats())"
   ]
  },
  {
   "cell_type": "markdown",
   "metadata": {},
   "source": [
    "# Hierarchical Clustering\n",
    "\n",
    "Hierarchical clustering was used to order dependent variables based on the similarity of their loading vectors. This resulted in a dendrogram, which was subset into clusters using the DynamicTreeCut algorithm. These clusters are separately plotted below, allowing the constituent DVs to be read."
   ]
  },
  {
   "cell_type": "markdown",
   "metadata": {},
   "source": [
    "### Survey Clusters\n",
    "\n",
    "Below is the survey dendrogram (reproduced from the main manuscript). Following are the 13 clusters. separately plotted. The third and fourth clusters, referenced in the main text, together reflect canonical components of \"self-control\"."
   ]
  },
  {
   "cell_type": "code",
   "execution_count": null,
   "metadata": {},
   "outputs": [],
   "source": [
    "_ = plot_results_dendrogram(survey_results, size=20, drop_list=[1,3,5,7, 9,11])"
   ]
  },
  {
   "cell_type": "code",
   "execution_count": null,
   "metadata": {},
   "outputs": [],
   "source": [
    "plot_subbranches(survey_results, size=6)"
   ]
  },
  {
   "cell_type": "markdown",
   "metadata": {},
   "source": [
    "### Task Clusters\n",
    "\n",
    "Below is the task dendrogram (reproduced from the main manuscript). Following are the 13 clusters separately plotted. THe 8th and 9th clusters, referenced in the ain text, divide two groups of \"information processing\" tasks."
   ]
  },
  {
   "cell_type": "code",
   "execution_count": null,
   "metadata": {},
   "outputs": [],
   "source": [
    "_ = plot_results_dendrogram(task_results, size=20, drop_list=[1,3,5,7,9,11,13,15], double_drop_list=[2,6,10,14])"
   ]
  },
  {
   "cell_type": "code",
   "execution_count": null,
   "metadata": {},
   "outputs": [],
   "source": [
    "plot_subbranches(task_results, size=6)"
   ]
  },
  {
   "cell_type": "markdown",
   "metadata": {},
   "source": [
    "## Cluster Robustness Analyses"
   ]
  },
  {
   "cell_type": "markdown",
   "metadata": {},
   "source": [
    "### Survey Cluster Robustness"
   ]
  },
  {
   "cell_type": "markdown",
   "metadata": {},
   "source": [
    "### Task Cluster Robustness"
   ]
  }
 ],
 "metadata": {
  "kernelspec": {
   "display_name": "Python 3",
   "language": "python",
   "name": "python3"
  },
  "language_info": {
   "codemirror_mode": {
    "name": "ipython",
    "version": 3
   },
   "file_extension": ".py",
   "mimetype": "text/x-python",
   "name": "python",
   "nbconvert_exporter": "python",
   "pygments_lexer": "ipython3",
   "version": "3.5.3"
  }
 },
 "nbformat": 4,
 "nbformat_minor": 2
}
